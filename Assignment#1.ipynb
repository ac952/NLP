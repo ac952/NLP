{
 "cells": [
  {
   "cell_type": "code",
   "execution_count": 13,
   "metadata": {},
   "outputs": [
    {
     "name": "stdout",
     "output_type": "stream",
     "text": [
      "216128\n"
     ]
    }
   ],
   "source": [
    "import nltk\n",
    "import re\n",
    "from collections import Counter\n",
    "import math\n",
    "from nltk.tokenize import sent_tokenize, word_tokenize\n",
    "\n",
    "path = 'train/obama.txt'\n",
    "obama_file = open(path,'r')\n",
    "days = obama_file.read()\n",
    "puncuationList = word_tokenize(days)\n",
    "\n",
    "nonPunct = re.compile('.*[A-Za-z0-9].*')\n",
    "filtered = [w for w in puncuationList if nonPunct.match(w)]\n",
    "# find the occurences of each word (dictionary)\n",
    "counts = Counter(filtered)\n",
    "# print(counts)\n",
    "\n",
    "# sum all the values in the count dictionary\n",
    "length = sum(counts.values())\n",
    "print(length)\n",
    "\n",
    "# update dictionary containing probability as the values - unigram\n",
    "# for key, value in counts.items():\n",
    "#     counts[key] = value / length\n",
    "# print(counts)\n",
    "\n",
    "\n",
    "# find bigram"
   ]
  },
  {
   "cell_type": "code",
   "execution_count": 15,
   "metadata": {},
   "outputs": [
    {
     "name": "stdout",
     "output_type": "stream",
     "text": [
      "Counter({'this': 1, 'is': 1, \"n't\": 1, 'a': 1, 'test': 1})\n"
     ]
    }
   ],
   "source": [
    "import re\n",
    "from collections import Counter\n",
    "days = \"this isn't a test\"\n",
    "text = word_tokenize(days)\n",
    "# >>> text = ['this', 'is', 'a', 'sentence', '.']\n",
    "nonPunct = re.compile('.*[A-Za-z0-9].*')  # must contain a letter or digit\n",
    "filtered = [w for w in text if nonPunct.match(w)]\n",
    "counts = Counter(filtered)\n",
    "print(counts)\n",
    "# Counter({'this': 1, 'a': 1, 'is': 1, 'sentence': 1})"
   ]
  },
  {
   "cell_type": "code",
   "execution_count": null,
   "metadata": {
    "collapsed": true
   },
   "outputs": [],
   "source": []
  }
 ],
 "metadata": {
  "kernelspec": {
   "display_name": "Python 3",
   "language": "python",
   "name": "python3"
  },
  "language_info": {
   "codemirror_mode": {
    "name": "ipython",
    "version": 3
   },
   "file_extension": ".py",
   "mimetype": "text/x-python",
   "name": "python",
   "nbconvert_exporter": "python",
   "pygments_lexer": "ipython3",
   "version": "3.6.1"
  }
 },
 "nbformat": 4,
 "nbformat_minor": 2
}
