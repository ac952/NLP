{
 "cells": [
  {
   "cell_type": "code",
   "execution_count": 17,
   "metadata": {},
   "outputs": [
    {
     "name": "stdout",
     "output_type": "stream",
     "text": [
      "216128\n"
     ]
    }
   ],
   "source": [
    "import nltk\n",
    "import re\n",
    "from collections import Counter\n",
    "import math\n",
    "from nltk.tokenize import sent_tokenize, word_tokenize\n",
    "\n",
    "path = 'train/obama.txt'\n",
    "obama_file = open(path,'r')\n",
    "days = obama_file.read()\n",
    "\n",
    "puncuationList = word_tokenize(days)\n",
    "\n",
    "nonPunct = re.compile('.*[A-Za-z0-9].*')\n",
    "filtered = [w for w in puncuationList if nonPunct.match(w)]\n",
    "# find the occurences of each word (dictionary)\n",
    "counts = Counter(filtered)\n",
    "\n",
    "# sum all the values in the count dictionary\n",
    "length = sum(counts.values())\n",
    "print(length)\n",
    "\n",
    "# update dictionary containing probability as the values - unigram\n",
    "def unigram_prob():\n",
    "    for key, value in counts.items():\n",
    "        counts[key] = value / length\n",
    "    print(counts)\n",
    "# unigram_prob()\n"
   ]
  },
  {
   "cell_type": "code",
   "execution_count": 18,
   "metadata": {},
   "outputs": [],
   "source": [
    "# import re\n",
    "# from collections import Counter\n",
    "# days = \"this isn't a test\"\n",
    "# text = word_tokenize(days)\n",
    "# # >>> text = ['this', ''nt,is 'a', 'sentence', '.']\n",
    "# nonPunct = re.compile('.*[A-Za-z0-9].*')  # must contain a letter or digit\n",
    "# filtered = [w for w in text if nonPunct.match(w)]\n",
    "# counts = Counter(filtered)\n",
    "# print(counts)\n",
    "# Counter({'this': 1, 'a': 1, 'is': 1, 'sentence': 1})"
   ]
  },
  {
   "cell_type": "code",
   "execution_count": 72,
   "metadata": {},
   "outputs": [],
   "source": [
    "import nltk\n",
    "import re\n",
    "from collections import Counter\n",
    "import math\n",
    "from nltk.tokenize import sent_tokenize, word_tokenize\n",
    "\n",
    "path = 'train/obama.txt'\n",
    "obama_file = open(path,'r')\n",
    "days = obama_file.read()\n",
    "puncuationList = word_tokenize(days)\n",
    "\n",
    "nonPunct = re.compile('.*[A-Za-z0-9].*')\n",
    "filtered = [w for w in puncuationList if nonPunct.match(w)]\n",
    "counts = Counter(filtered)\n",
    "length = sum(counts.values())\n",
    "\n",
    "def unigram_prob():\n",
    "    for key, value in counts.items():\n",
    "        counts[key] = value / length\n",
    "    print(counts)\n",
    "# unigram_prob()\n",
    "\n",
    "\n",
    "def get_biCounts(filtered):\n",
    "    length = len(filtered)\n",
    "    bigram_table = {}\n",
    "    for x in range(0, length - 1):\n",
    "        if filtered[x] in bigram_table:\n",
    "            if filtered[x + 1] in bigram_table[filtered[x]]:\n",
    "                bigram_table[filtered[x]][filtered[x + 1]] += 1\n",
    "            else:\n",
    "                bigram_table[filtered[x]][filtered[x + 1]] = 1\n",
    "                \n",
    "        else:\n",
    "            bigram_table[filtered[x]] = {}\n",
    "            bigram_table[filtered[x]][filtered[x + 1]] = 1\n",
    "            \n",
    "    return bigram_table\n",
    "# get_biCounts(filtered)\n",
    "d = get_biCounts(filtered)\n",
    "# print(d)\n",
    "bigramTotal = len(d)\n",
    "# print(bigramTotal)\n",
    "\n",
    "def bigram_prob(d):\n",
    "    for k, v in d.items():\n",
    "        for k2, v2 in v.items():\n",
    "            v[k2] = v2 / bigramTotal\n",
    "#             print(v2 / bigramTotal)\n",
    "# bigram_prob(d)"
   ]
  },
  {
   "cell_type": "code",
   "execution_count": 75,
   "metadata": {},
   "outputs": [
    {
     "name": "stdout",
     "output_type": "stream",
     "text": [
      "{'I': {'see': 2, 'eat': 2}, 'see': {'what': 1}, 'what': {'I': 2}, 'eat': {'and': 1, 'what': 1}, 'and': {'I': 1}}\n",
      "5\n",
      "{'see': 2, 'eat': 2}\n",
      "0.4\n",
      "0.4\n",
      "{'what': 1}\n",
      "0.2\n",
      "{'I': 2}\n",
      "0.4\n",
      "{'and': 1, 'what': 1}\n",
      "0.2\n",
      "0.2\n",
      "{'I': 1}\n",
      "0.2\n"
     ]
    }
   ],
   "source": [
    "import nltk\n",
    "import re\n",
    "from collections import Counter\n",
    "import math\n",
    "from nltk.tokenize import sent_tokenize, word_tokenize\n",
    "def get_biCounts(all_tokens):\n",
    "    uniCounts, length = get_uniCounts(all_tokens)\n",
    "    bigram_table = {}\n",
    "    num_bigrams = 0\n",
    "    for x in range(0, length - 1):\n",
    "        if all_tokens[x] in bigram_table:\n",
    "            if all_tokens[x + 1] in bigram_table[all_tokens[x]]:\n",
    "                bigram_table[all_tokens[x]][all_tokens[x + 1]] += 1\n",
    "            else:\n",
    "                bigram_table[all_tokens[x]][all_tokens[x + 1]] = 1\n",
    "                num_bigrams += 1\n",
    "        else:\n",
    "            bigram_table[all_tokens[x]] = {}\n",
    "            bigram_table[all_tokens[x]][all_tokens[x + 1]] = 1\n",
    "            num_bigrams += 1\n",
    "#     print(num_bigrams)\n",
    "    return bigram_table\n",
    "#     print(num_bigrams)\n",
    "\n",
    "d = get_biCounts([\"I\",\"see\",\"what\",\"I\",\"eat\",\"and\",\"I\", \"eat\" ,\"what\" ,\"I\" ,\"see\"])\n",
    "print(d)\n",
    "\n",
    "bigramTotal = len(d)\n",
    "print(bigramTotal)\n",
    "\n",
    "\n",
    "def myprint(d):\n",
    "    for k, v in d.items():\n",
    "        print(v)\n",
    "        for k2, v2 in v.items():\n",
    "            print(v2 / bigramTotal)\n",
    "myprint(d)"
   ]
  },
  {
   "cell_type": "code",
   "execution_count": null,
   "metadata": {
    "collapsed": true
   },
   "outputs": [],
   "source": []
  }
 ],
 "metadata": {
  "kernelspec": {
   "display_name": "Python 3",
   "language": "python",
   "name": "python3"
  },
  "language_info": {
   "codemirror_mode": {
    "name": "ipython",
    "version": 3
   },
   "file_extension": ".py",
   "mimetype": "text/x-python",
   "name": "python",
   "nbconvert_exporter": "python",
   "pygments_lexer": "ipython3",
   "version": "3.6.1"
  }
 },
 "nbformat": 4,
 "nbformat_minor": 2
}
