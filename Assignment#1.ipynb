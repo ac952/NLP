{
 "cells": [
  {
   "cell_type": "markdown",
   "metadata": {},
   "source": [
    "Aileen Cai ac952 and Li Chen lc624"
   ]
  },
  {
   "cell_type": "code",
   "execution_count": null,
   "metadata": {
    "collapsed": true
   },
   "outputs": [],
   "source": [
    "import nltk\n",
    "import re\n",
    "from collections import Counter\n",
    "import math\n",
    "from nltk.tokenize import sent_tokenize, word_tokenize\n",
    "\n",
    "path = 'train/obama.txt'\n",
    "obama_file = open(path,'r')\n",
    "days = obama_file.read()\n",
    "\n",
    "puncuationList = word_tokenize(days)\n",
    "nonPunct = re.compile('.*[A-Za-z0-9].*')\n",
    "filtered = [w for w in puncuationList if nonPunct.match(w)]\n",
    "# find the occurences of each word (dictionary)\n",
    "counts = Counter(filtered)\n",
    "        \n",
    "# sum all the values in the count dictionary\n",
    "length = sum(counts.values())\n",
    "# print(length)\n",
    "\n",
    "# update dictionary containing probability as the values - unigram\n",
    "def unigram_prob():\n",
    "    for key, value in counts.items():\n",
    "        counts[key] = value / length\n",
    "    print(counts)\n",
    "# unigram_prob()\n",
    "\n",
    "def get_bigramCounts(filtered):\n",
    "    length = len(filtered)\n",
    "    bigram_table = {}\n",
    "    for x in range(length - 1):\n",
    "        if filtered[x] in bigram_table:\n",
    "            if filtered[x + 1] in bigram_table[filtered[x]]:\n",
    "                bigram_table[filtered[x]][filtered[x + 1]] += 1\n",
    "            else:\n",
    "                bigram_table[filtered[x]][filtered[x + 1]] = 1\n",
    "        else:\n",
    "            bigram_table[filtered[x]] = {}\n",
    "            bigram_table[filtered[x]][filtered[x + 1]] = 1         \n",
    "    return bigram_table\n",
    "d = get_bigramCounts(filtered)\n",
    "# print(d)\n",
    "bigramTotal = len(d)\n",
    "\n",
    "\n",
    "def bigram_prob(d):\n",
    "    for k, v in d.items():\n",
    "        for k2, v2 in v.items():        \n",
    "            v[k2] = v2/counts[k]\n",
    "#     print(d)\n",
    "# bigram_prob(d)"
   ]
  },
  {
   "cell_type": "code",
   "execution_count": null,
   "metadata": {
    "collapsed": true
   },
   "outputs": [],
   "source": [
    "# generating random sentences - unigram\n",
    "\n",
    "from random import randint\n",
    "# pass in bigram dictionary (d) assigned above\n",
    "def unigenerate(d):\n",
    "    sentence = ''\n",
    "    for x in range(0,20):\n",
    "        l = list(counts.keys())\n",
    "        index = randint(0,len(counts)-1)\n",
    "        sentence=sentence + l[index] + ' '\n",
    "        x+=1\n",
    "    print(sentence)\n",
    "unigenerate(d)\n",
    "\n",
    "def bigenerate(d):\n",
    "    l = list(d.keys())\n",
    "    index = randint(0, len(d)-1)\n",
    "    sentence = '' + l[index]\n",
    "    lastword = l[index]\n",
    "    \n",
    "    for x in range(0,19):\n",
    "        nextwordlist = list(d[lastword].keys())\n",
    "        i = randint(0,len(nextwordlist)-1)\n",
    "        nextword = ''+ nextwordlist[i]\n",
    "        sentence=sentence + ' ' + nextword\n",
    "        lastword = nextword\n",
    "    print(sentence)\n",
    "bigenerate(d)"
   ]
  },
  {
   "cell_type": "code",
   "execution_count": 15,
   "metadata": {},
   "outputs": [],
   "source": []
  },
  {
   "cell_type": "code",
   "execution_count": null,
   "metadata": {
    "collapsed": true
   },
   "outputs": [],
   "source": []
  },
  {
   "cell_type": "code",
   "execution_count": null,
   "metadata": {
    "collapsed": true
   },
   "outputs": [],
   "source": []
  },
  {
   "cell_type": "code",
   "execution_count": null,
   "metadata": {
    "collapsed": true
   },
   "outputs": [],
   "source": [
    "# unigram perplexity\n",
    "import numpy as np\n",
    "\n",
    "import nltk\n",
    "import re\n",
    "from collections import Counter\n",
    "import math\n",
    "from nltk.tokenize import sent_tokenize, word_tokenize\n",
    "p = 'development/obama.txt'\n",
    "obama_validation = open(p,'r')\n",
    "punctList = word_tokenize(obama_validation.read())\n",
    "\n",
    "q = re.compile('.*[A-Za-z0-9].*')\n",
    "noPunct = [w for w in punctList if q.match(w)]\n",
    "\n",
    "countW = Counter(noPunct)\n",
    "\n",
    "countW['<UNK>'] = 0\n",
    "for key in list(countW.keys()):\n",
    "    if key=='<UNK>':\n",
    "        break\n",
    "    if countW[key]<2:\n",
    "        countW['<UNK>'] += 1\n",
    "        del countW[key]\n",
    "# print(countW)\n",
    "\n",
    "# get the prob including unk total\n",
    "for key, value in countW.items():\n",
    "        countW[key] = value / sum(countW.values())\n",
    "# print(countW)\n",
    "\n",
    "# smooth unigram?\n",
    "\n",
    "\n",
    "# unigram perplexity\n",
    "# get the probability when it occurs in text file \n",
    "problist = []\n",
    "for x in noPunct:\n",
    "    UNK = countW.get('<UNK>')\n",
    "    if x in countW.keys():\n",
    "        problist.append(countW.get(x)) \n",
    "    else:\n",
    "        problist.append(UNK)\n",
    "# print(problist)\n",
    "print(np.prod(problist))\n"
   ]
  },
  {
   "cell_type": "code",
   "execution_count": null,
   "metadata": {
    "collapsed": true
   },
   "outputs": [],
   "source": [
    "# perplexity\n",
    "# import numpy as np\n",
    "\n",
    "# multiply all unigram prob- returns 0\n",
    "# unigramDic = {}\n",
    "# for key, value in counts.items():\n",
    "#     unigramDic[key] = value / length\n",
    "# # print(np.prod(unigramDic))\n",
    "# unigramProbList = []\n",
    "# for k, v in unigramDic.items():\n",
    "#     unigramProbList.append(v)\n",
    "# print(np.prod(unigramProbList))\n",
    "\n",
    "\n",
    "\n",
    "# # multiply all smoothed bigram probability - returns 0\n",
    "# listProb=[]\n",
    "# # print(d)\n",
    "# for key, value in d.items():\n",
    "#     for key2, value2 in value.items():\n",
    "# #         print(value2)\n",
    "#         listProb.append(value2)\n",
    "# # print(np.prod(listProb))"
   ]
  },
  {
   "cell_type": "code",
   "execution_count": null,
   "metadata": {
    "collapsed": true
   },
   "outputs": [],
   "source": []
  },
  {
   "cell_type": "code",
   "execution_count": null,
   "metadata": {
    "collapsed": true
   },
   "outputs": [],
   "source": []
  },
  {
   "cell_type": "code",
   "execution_count": null,
   "metadata": {
    "collapsed": true
   },
   "outputs": [],
   "source": []
  },
  {
   "cell_type": "code",
   "execution_count": null,
   "metadata": {
    "collapsed": true
   },
   "outputs": [],
   "source": []
  },
  {
   "cell_type": "code",
   "execution_count": null,
   "metadata": {
    "collapsed": true
   },
   "outputs": [],
   "source": []
  },
  {
   "cell_type": "code",
   "execution_count": null,
   "metadata": {
    "collapsed": true
   },
   "outputs": [],
   "source": [
    "\n",
    "# test####################\n",
    "# import nltk\n",
    "# import re\n",
    "# from collections import Counter\n",
    "# import math\n",
    "# from nltk.tokenize import sent_tokenize, word_tokenize\n",
    "\n",
    "# def get_uniCounts(all_tokens):\n",
    "#     unigram_table = {}\n",
    "#     for token in all_tokens:\n",
    "#         if token in unigram_table:\n",
    "#             unigram_table[token] += 1\n",
    "#         else:\n",
    "#             unigram_table[token] = 1\n",
    "#     return unigram_table, len(all_tokens)\n",
    "\n",
    "\n",
    "# def get_biCounts(all_tokens):\n",
    "#     uniCounts, length = get_uniCounts(all_tokens)\n",
    "#     bigram_table = {}\n",
    "#     num_bigrams = 0\n",
    "#     for x in range(0, length - 1):\n",
    "#         if all_tokens[x] in bigram_table:\n",
    "#             if all_tokens[x + 1] in bigram_table[all_tokens[x]]:\n",
    "#                 bigram_table[all_tokens[x]][all_tokens[x + 1]] += 1\n",
    "#             else:\n",
    "#                 bigram_table[all_tokens[x]][all_tokens[x + 1]] = 1\n",
    "#                 num_bigrams += 1\n",
    "#         else:\n",
    "#             bigram_table[all_tokens[x]] = {}\n",
    "#             bigram_table[all_tokens[x]][all_tokens[x + 1]] = 1\n",
    "#             num_bigrams += 1\n",
    "# #     print(num_bigrams)\n",
    "#     return bigram_table\n",
    "# d = get_biCounts([\"I\",\"see\",\"what\",\"I\",\"eat\",\"and\",\"I\", \"eat\" ,\"what\" ,\"I\" ,\"see\"])\n",
    "# # print(d)\n",
    "\n",
    "# # # bigramTotal = len(d)\n",
    "# # # print(bigramTotal)\n",
    "# # # listTokens = [\"I\",\"see\",\"what\",\"I\",\"eat\",\"and\",\"I\", \"eat\" ,\"what\" ,\"I\" ,\"see\"]\n",
    "# # # counts = Counter(listTokens)\n",
    "# # # # print(counts)\n",
    "\n",
    "# # def nonsmooth(d):\n",
    "# #     for k, v in d.items():\n",
    "# #         for k2, v2 in v.items():        \n",
    "# # #             print (v2 / counts[k])\n",
    "# #             v[k2] = v2/counts[k]\n",
    "# #     print(d.items())\n",
    "# # nonsmooth(d)\n",
    "\n",
    "# import numpy as np\n",
    "# def smooth_prob(d):\n",
    "#     for k, v in d.items():\n",
    "#         for k2, v2 in v.items():        \n",
    "# #             print (v2 / counts[k])\n",
    "#             v[k2] = (v2 + 1)/(counts[k] + len(all_tokens))\n",
    "#     print(d)\n",
    "# smooth_prob(d) \n",
    "\n",
    "\n",
    "# listProb=[]\n",
    "# for key, value in d.items():\n",
    "#     for key2, value2 in value.items():\n",
    "# #         print(value2)\n",
    "#         listProb.append(value2)\n",
    "# np.prod(listProb)\n",
    "\n",
    "# # def unigram_prob(d):\n",
    "# #     for key, value in d.items():\n",
    "# #         d[key] = value / len(all_tokens)\n",
    "# #     print(counts)\n",
    "# # unigram_prob(d)\n",
    "        "
   ]
  },
  {
   "cell_type": "code",
   "execution_count": null,
   "metadata": {
    "collapsed": true
   },
   "outputs": [],
   "source": [
    "# unigram perplexity\n",
    "# p = 'development/obama.txt'\n",
    "# obama_validation = open(p,'r')\n",
    "# punctList = word_tokenize(obama_validation.read())\n",
    "\n",
    "# q = re.compile('.*[A-Za-z0-9].*')\n",
    "# noPunct = [w for w in puncuationList if q.match(w)]\n",
    "\n",
    "# probability = 0\n",
    "# for x in d:\n",
    "#     v = d.get(x,0)\n",
    "#     UNK = d.get('<UNK>')\n",
    "#     probability = v\n",
    "#     if v != 0:\n",
    "#         probability*v \n",
    "#     else:\n",
    "#         probability*UNK\n",
    "# print (probability)"
   ]
  },
  {
   "cell_type": "code",
   "execution_count": null,
   "metadata": {
    "collapsed": true
   },
   "outputs": [],
   "source": []
  }
 ],
 "metadata": {
  "kernelspec": {
   "display_name": "Python 3",
   "language": "python",
   "name": "python3"
  },
  "language_info": {
   "codemirror_mode": {
    "name": "ipython",
    "version": 3
   },
   "file_extension": ".py",
   "mimetype": "text/x-python",
   "name": "python",
   "nbconvert_exporter": "python",
   "pygments_lexer": "ipython3",
   "version": "3.6.1"
  }
 },
 "nbformat": 4,
 "nbformat_minor": 2
}
