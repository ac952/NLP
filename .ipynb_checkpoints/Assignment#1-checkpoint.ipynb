{
 "cells": [
  {
   "cell_type": "code",
   "execution_count": 17,
   "metadata": {},
   "outputs": [
    {
     "name": "stdout",
     "output_type": "stream",
     "text": [
      "245261\n",
      "0.0441325771321164\n"
     ]
    }
   ],
   "source": [
    "import nltk\n",
    "import collections\n",
    "import math\n",
    "from nltk.tokenize import sent_tokenize, word_tokenize\n",
    "\n",
    "path = 'train/obama.txt'\n",
    "obama_file = open(path,'r')\n",
    "days = obama_file.read()\n",
    "# print(word_tokenize(days))\n",
    "\n",
    "length = len(word_tokenize(days))\n",
    "print(length)\n",
    "\n",
    "# find the occurences of each word (dictionary)- unigram\n",
    "word = word_tokenize(days)\n",
    "counts = collections.Counter(word)\n",
    "# print(counts)\n",
    "\n",
    "# update dictionary containing probability as the values\n",
    "for key, value in counts.items():\n",
    "    counts[key] = value / length\n",
    "print(counts)\n",
    "# print(counts.values())\n",
    "# val = max(counts.values())\n",
    "# print(val)\n",
    "\n",
    "\n",
    "\n",
    "###get rid of the punctuation??"
   ]
  },
  {
   "cell_type": "code",
   "execution_count": null,
   "metadata": {},
   "outputs": [],
   "source": []
  },
  {
   "cell_type": "code",
   "execution_count": null,
   "metadata": {
    "collapsed": true
   },
   "outputs": [],
   "source": []
  }
 ],
 "metadata": {
  "kernelspec": {
   "display_name": "Python 3",
   "language": "python",
   "name": "python3"
  },
  "language_info": {
   "codemirror_mode": {
    "name": "ipython",
    "version": 3
   },
   "file_extension": ".py",
   "mimetype": "text/x-python",
   "name": "python",
   "nbconvert_exporter": "python",
   "pygments_lexer": "ipython3",
   "version": "3.6.1"
  }
 },
 "nbformat": 4,
 "nbformat_minor": 2
}
