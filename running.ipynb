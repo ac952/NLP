{
 "cells": [
  {
   "cell_type": "code",
   "execution_count": 5,
   "metadata": {},
   "outputs": [],
   "source": [
    "# bigram smoothing, unk and perplexity\n",
    "# adding unk to unigram dictionary\n",
    "import nltk\n",
    "import re\n",
    "from collections import Counter\n",
    "import math\n",
    "from nltk.tokenize import sent_tokenize, word_tokenize\n",
    "\n",
    "path = 'train/obama.txt'\n",
    "obama_file = open(path,'r')\n",
    "days = obama_file.read()\n",
    "\n",
    "puncuationList = word_tokenize(days)\n",
    "nonPunct = re.compile('.*[A-Za-z0-9].*')\n",
    "filtered = [w for w in puncuationList if nonPunct.match(w)]\n",
    "# find the occurences of each word (dictionary)\n",
    "countWords = Counter(filtered)\n",
    "\n",
    "# def countUnkBigram():\n",
    "countWords['<UNK>'] = 0\n",
    "replaced = []\n",
    "    # print(counts)\n",
    "for key in list(countWords.keys()):\n",
    "    if key=='<UNK>':\n",
    "        break\n",
    "    if countWords[key]<2:\n",
    "        replaced.append(key)\n",
    "        countWords['<UNK>'] += 1\n",
    "        del countWords[key]\n",
    "# print(countWords)\n",
    "# countUnkBigram()\n",
    "\n",
    "# update get list of test words, replaced by unk\n",
    "# def updateListUnk():\n",
    "for a in range(len(filtered)-1):\n",
    "    if filtered[a] in replaced:\n",
    "        filtered[a] = '<UNK>'\n",
    "# print(filtered)\n"
   ]
  },
  {
   "cell_type": "code",
   "execution_count": 30,
   "metadata": {},
   "outputs": [],
   "source": [
    "#update bigram nested dictionary with unk\n",
    "# building the bigram count dictionary with UNK (code copied from section 2)\n",
    "\n",
    "length = len(filtered)\n",
    "bigram_table = {}\n",
    "for x in range(length - 1):\n",
    "    if filtered[x] in bigram_table:\n",
    "        if filtered[x + 1] in bigram_table[filtered[x]]:\n",
    "            bigram_table[filtered[x]][filtered[x + 1]] += 1\n",
    "        else:\n",
    "            bigram_table[filtered[x]][filtered[x + 1]] = 1\n",
    "    else:\n",
    "        bigram_table[filtered[x]] = {}\n",
    "        bigram_table[filtered[x]][filtered[x + 1]] = 1         \n",
    "# print(bigram_table)\n"
   ]
  },
  {
   "cell_type": "code",
   "execution_count": 29,
   "metadata": {},
   "outputs": [
    {
     "name": "stdout",
     "output_type": "stream",
     "text": [
      "2475339.1021695584\n"
     ]
    }
   ],
   "source": [
    "# building the smoothened bigram probability dictionary (code copied from section 4)\n",
    "\n",
    "import math\n",
    "for k, v in bigram_table.items():\n",
    "    for k2, v2 in v.items():        \n",
    "        v[k2] = (v2 + 1)/(countWords[k] + len(countWords))\n",
    "# print(bigram_table)\n",
    "\n",
    "\n",
    "\n",
    "# buidling a problist using bigram model\n",
    "bigram_problist = []\n",
    "# getting the probability of the first word using unigram table\n",
    "# get prob of the key (ex: 'i'), get the prob from the countWords dic\n",
    "UNK = countWords.get('<UNK>',0)\n",
    "prob = countWords.get(filtered[0])  / (len(filtered))\n",
    "bigram_problist.append(prob) \n",
    "prevWord = filtered[0]\n",
    "\n",
    "for i in range(1,len(filtered)):\n",
    "    x = filtered[i]\n",
    "    if x in list(bigram_table[prevWord].keys()):\n",
    "        y = -1 * math.log(bigram_table[prevWord].get(x)) \n",
    "        bigram_problist.append(y)\n",
    "    else:\n",
    "        y = -1 * math.log( 1/(countWords[prevWord]+length ))\n",
    "        bigram_problist.append(y)\n",
    "sumProb = sum(bigram_problist)\n",
    "print(sumProb)\n",
    "#       ** (1/len(filtered)))\n"
   ]
  },
  {
   "cell_type": "code",
   "execution_count": null,
   "metadata": {
    "collapsed": true
   },
   "outputs": [],
   "source": []
  }
 ],
 "metadata": {
  "kernelspec": {
   "display_name": "Python 3",
   "language": "python",
   "name": "python3"
  },
  "language_info": {
   "codemirror_mode": {
    "name": "ipython",
    "version": 3
   },
   "file_extension": ".py",
   "mimetype": "text/x-python",
   "name": "python",
   "nbconvert_exporter": "python",
   "pygments_lexer": "ipython3",
   "version": "3.6.1"
  }
 },
 "nbformat": 4,
 "nbformat_minor": 2
}
